{
 "cells": [
  {
   "cell_type": "code",
   "execution_count": 1,
   "metadata": {},
   "outputs": [],
   "source": [
    "class Host(object):\n",
    "    def __init__(self, key, lan):\n",
    "        self.key = key\n",
    "        self.lan = lan.key\n",
    "\n",
    "    def get_lan(self):                          # Get Lan ID in Host\n",
    "        return self.lan"
   ]
  },
  {
   "cell_type": "code",
   "execution_count": 2,
   "metadata": {},
   "outputs": [],
   "source": [
    "class Lan(object):\n",
    "    def __init__(self, key):\n",
    "        self.key = key\n",
    "        self.bridges = {}\n",
    "        self.hosts = {}\n",
    "        \n",
    "        self.msgs = []\n",
    "        self.db = key\n",
    "\n",
    "    def add_bridge(self, bridge):               # Add Bridge IDs in Lan\n",
    "        self.bridges[bridge.key] = bridge\n",
    "        \n",
    "    def add_host(self, host):                   # Add Hosts in Lan\n",
    "        self.hosts[host.key] = host\n",
    "        \n",
    "    def send_msg(self):                         # Get Bridge IDs in Lan\n",
    "        for msg in self.msgs:\n",
    "            state = msg[0]\n",
    "            sender = msg[1]\n",
    "            for bridge in self.bridges:\n",
    "                if(sender != bridge):\n",
    "                    self.bridges[bridge].recieve_msg([state, self.key])\n",
    "    \n",
    "    def recieve_msg(self, msg):                  # Get Bridge IDs in Lan\n",
    "        return self.msgs.append(msg)\n",
    "    \n",
    "    def update(self):\n",
    "        self.msgs.sort(key=order)\n",
    "        \n",
    "        if len(self.msgs) != 0:\n",
    "            best_config = self.msgs[0]\n",
    "            self.root = best_config[0][0]\n",
    "            self.d += int(best_config[0][1])\n",
    "\n",
    "            lan_key = best_config[1]\n",
    "            self.lans[lan_key][1] = \"RP\"\n",
    "\n",
    "            self.state = [self.root, self.d, self.key]\n",
    "        return self.state\n",
    "        \n",
    "    def get_connections(self):                  # Get Bridge IDs in Lan\n",
    "        return self.bridges.keys()\n",
    "    \n",
    "    def get_hosts(self):                        # Get Host IDs in Lan\n",
    "        return self.hosts.keys()"
   ]
  },
  {
   "cell_type": "code",
   "execution_count": 51,
   "metadata": {},
   "outputs": [],
   "source": [
    "class Bridge(object):\n",
    "    def __init__(self, key):\n",
    "        self.key = key    \n",
    "        self.root = key\n",
    "        self.d = 0\n",
    "        \n",
    "        self.lans = {}\n",
    "        self.state = [self.root, self.d, self.key]\n",
    "        self.msgs = []\n",
    "\n",
    "    def add_lan(self, lan):                     # Add Lan in Bridge\n",
    "        self.lans[lan.key] = [lan,\"DP\"]\n",
    "\n",
    "    def get_connections(self):                  # Get Lan IDs in Bridge\n",
    "        return self.lans.keys()\n",
    "    \n",
    "    def port(self, lan_key):                    # Get Lan IDs in Bridge\n",
    "        return [self.key, lan_key, self.lans[lan_key][1]]\n",
    "    \n",
    "    def status(self):                           # Get Bridge Status\n",
    "        return self.state\n",
    "    \n",
    "    def send_msg(self):\n",
    "        for lan in self.lans:\n",
    "            self.lans[lan][0].recieve_msg([self.state, bridge])\n",
    "        \n",
    "    def recieve_msg(self, msg):                      # Receiver Bridge Status\n",
    "        return self.msgs.append(msg)\n",
    "    \n",
    "    def update(self):\n",
    "        self.msgs.sort(key=order)\n",
    "        \n",
    "        if len(self.msgs) != 0:\n",
    "            best_config = self.msgs[0]\n",
    "            self.root = best_config[0][0]\n",
    "            self.d += int(best_config[0][1])\n",
    "\n",
    "            lan_key = best_config[1]\n",
    "            self.lans[lan_key][1] = \"RP\"\n",
    "\n",
    "            self.state = [self.root, self.d, self.key]\n",
    "        return self.state\n",
    "        \n",
    "    def is_root(self):\n",
    "        return self.root == self.key"
   ]
  },
  {
   "cell_type": "code",
   "execution_count": 65,
   "metadata": {},
   "outputs": [],
   "source": [
    "def order(msg):\n",
    "    return int(msg[0][0][1])**2 + int(msg[0][1])**2 + int(msg[0][2][1])**2"
   ]
  },
  {
   "cell_type": "code",
   "execution_count": 52,
   "metadata": {},
   "outputs": [],
   "source": [
    "class Network(object):\n",
    "    def __init__(self):\n",
    "        self.bridges = {}   # Bridges in Network\n",
    "        self.lans = {}      # Lans in Network\n",
    "        \n",
    "    def add_bridge(self, bridge):                   # Add Bridge in Network\n",
    "        self.bridges[bridge.key] = bridge\n",
    "        \n",
    "    def add_lan(self, lan):                         # Add Lan in Network\n",
    "        self.lans[lan.key] = lan\n",
    "\n",
    "    def add_port(self, lan_key, bridge_key):        # Add Port in resp Bridge and Lan\n",
    "        if lan_key not in self.lans:\n",
    "            self.add_lan(Lan(lan_key))\n",
    "            \n",
    "        if lan_key not in self.bridges[bridge_key].lans:\n",
    "            self.bridges[bridge_key].add_lan(self.lans[lan_key])\n",
    "            \n",
    "        if bridge_key not in self.lans[lan_key].bridges:\n",
    "            self.lans[lan_key].add_bridge(self.bridges[bridge_key])\n",
    "\n",
    "    def get_bridges(self):                          # Get Bridges IDs in Network\n",
    "        return self.bridges.keys()\n",
    "    \n",
    "    def get_lans(self):                             # Get Lans IDs in Network\n",
    "        return self.lans.keys()\n",
    "\n",
    "    def __iter__(self):\n",
    "        return iter(self.bridges.values())"
   ]
  },
  {
   "cell_type": "code",
   "execution_count": 53,
   "metadata": {},
   "outputs": [],
   "source": [
    "net = Network()"
   ]
  },
  {
   "cell_type": "code",
   "execution_count": 54,
   "metadata": {},
   "outputs": [],
   "source": [
    "net.add_bridge(Bridge('B1'))\n",
    "net.add_port('A','B1')\n",
    "net.add_port('G','B1')\n",
    "net.add_port('B','B1')"
   ]
  },
  {
   "cell_type": "code",
   "execution_count": 55,
   "metadata": {},
   "outputs": [],
   "source": [
    "net.add_bridge(Bridge('B2'))\n",
    "net.add_port('G','B2')\n",
    "net.add_port('F','B2')"
   ]
  },
  {
   "cell_type": "code",
   "execution_count": 56,
   "metadata": {},
   "outputs": [],
   "source": [
    "net.add_bridge(Bridge('B3'))\n",
    "net.add_port('B','B3')\n",
    "net.add_port('C','B3')"
   ]
  },
  {
   "cell_type": "code",
   "execution_count": 57,
   "metadata": {},
   "outputs": [],
   "source": [
    "net.add_bridge(Bridge('B4'))\n",
    "net.add_port('C','B4')\n",
    "net.add_port('F','B4')\n",
    "net.add_port('E','B4')"
   ]
  },
  {
   "cell_type": "code",
   "execution_count": 58,
   "metadata": {},
   "outputs": [],
   "source": [
    "net.add_bridge(Bridge('B5'))\n",
    "net.add_port('C','B5')\n",
    "net.add_port('D','B5')\n",
    "net.add_port('E','B5')"
   ]
  },
  {
   "cell_type": "code",
   "execution_count": 59,
   "metadata": {},
   "outputs": [
    {
     "name": "stdout",
     "output_type": "stream",
     "text": [
      "['B1', 0, 'B1']\n",
      "['B2', 0, 'B2']\n",
      "['B3', 0, 'B3']\n",
      "['B4', 0, 'B4']\n",
      "['B5', 0, 'B5']\n"
     ]
    }
   ],
   "source": [
    "for bridge in net.bridges:\n",
    "    print(net.bridges[bridge].status())"
   ]
  },
  {
   "cell_type": "code",
   "execution_count": 60,
   "metadata": {},
   "outputs": [
    {
     "name": "stdout",
     "output_type": "stream",
     "text": [
      "['B1', 'A', 'DP']\n",
      "['B1', 'G', 'DP']\n",
      "['B1', 'B', 'DP']\n",
      "['B2', 'G', 'DP']\n",
      "['B2', 'F', 'DP']\n",
      "['B3', 'B', 'DP']\n",
      "['B3', 'C', 'DP']\n",
      "['B4', 'C', 'DP']\n",
      "['B4', 'F', 'DP']\n",
      "['B4', 'E', 'DP']\n",
      "['B5', 'C', 'DP']\n",
      "['B5', 'D', 'DP']\n",
      "['B5', 'E', 'DP']\n"
     ]
    }
   ],
   "source": [
    "for bridge in net.bridges:\n",
    "    for lan in net.bridges[bridge].lans:\n",
    "        print(net.bridges[bridge].port(lan))"
   ]
  },
  {
   "cell_type": "code",
   "execution_count": 61,
   "metadata": {},
   "outputs": [],
   "source": [
    "net.lans['A'].send_msg()"
   ]
  },
  {
   "cell_type": "code",
   "execution_count": 62,
   "metadata": {},
   "outputs": [],
   "source": [
    "net.lans['B'].send_msg()"
   ]
  },
  {
   "cell_type": "code",
   "execution_count": 63,
   "metadata": {},
   "outputs": [
    {
     "name": "stdout",
     "output_type": "stream",
     "text": [
      "[]\n"
     ]
    }
   ],
   "source": [
    "print(net.bridges['B2'].msgs)"
   ]
  },
  {
   "cell_type": "code",
   "execution_count": 64,
   "metadata": {},
   "outputs": [
    {
     "name": "stdout",
     "output_type": "stream",
     "text": [
      "[]\n"
     ]
    }
   ],
   "source": [
    "print(net.lans['G'].msgs)"
   ]
  },
  {
   "cell_type": "code",
   "execution_count": 66,
   "metadata": {},
   "outputs": [
    {
     "name": "stdout",
     "output_type": "stream",
     "text": [
      "['B2', 0, 'B2']\n"
     ]
    }
   ],
   "source": [
    "print(net.bridges['B2'].update())"
   ]
  },
  {
   "cell_type": "code",
   "execution_count": 67,
   "metadata": {},
   "outputs": [],
   "source": [
    "net.bridges['B4'].send_msg()\n",
    "net.bridges['B1'].send_msg()"
   ]
  },
  {
   "cell_type": "code",
   "execution_count": 68,
   "metadata": {},
   "outputs": [],
   "source": [
    "net.lans['F'].send_msg()\n",
    "net.lans['G'].send_msg()"
   ]
  },
  {
   "cell_type": "code",
   "execution_count": 69,
   "metadata": {},
   "outputs": [
    {
     "name": "stdout",
     "output_type": "stream",
     "text": [
      "[[['B4', 0, 'B4'], 'F'], [['B1', 0, 'B1'], 'G']]\n"
     ]
    }
   ],
   "source": [
    "print(net.bridges['B2'].msgs)"
   ]
  },
  {
   "cell_type": "code",
   "execution_count": 70,
   "metadata": {},
   "outputs": [
    {
     "name": "stdout",
     "output_type": "stream",
     "text": [
      "['B1', 0, 'B2']\n"
     ]
    }
   ],
   "source": [
    "print(net.bridges['B2'].update())"
   ]
  },
  {
   "cell_type": "code",
   "execution_count": 73,
   "metadata": {},
   "outputs": [
    {
     "name": "stdout",
     "output_type": "stream",
     "text": [
      "['B2', 'G', 'RP']\n",
      "['B2', 'F', 'DP']\n"
     ]
    }
   ],
   "source": [
    "for lan in net.bridges['B2'].lans:\n",
    "    print(net.bridges['B2'].port(lan))"
   ]
  },
  {
   "cell_type": "code",
   "execution_count": 74,
   "metadata": {},
   "outputs": [
    {
     "data": {
      "text/plain": [
       "[[['B4', 0, 'B4'], 'B5']]"
      ]
     },
     "execution_count": 74,
     "metadata": {},
     "output_type": "execute_result"
    }
   ],
   "source": [
    "net.lans['E'].msgs"
   ]
  },
  {
   "cell_type": "code",
   "execution_count": null,
   "metadata": {},
   "outputs": [],
   "source": []
  }
 ],
 "metadata": {
  "kernelspec": {
   "display_name": "Python 3.7.3 64-bit",
   "language": "python",
   "name": "python37364bit7c352722b4854bccbd0d533d97fdf091"
  },
  "language_info": {
   "codemirror_mode": {
    "name": "ipython",
    "version": 3
   },
   "file_extension": ".py",
   "mimetype": "text/x-python",
   "name": "python",
   "nbconvert_exporter": "python",
   "pygments_lexer": "ipython3",
   "version": "3.7.3"
  }
 },
 "nbformat": 4,
 "nbformat_minor": 2
}
